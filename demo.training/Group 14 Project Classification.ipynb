{
 "cells": [
  {
   "cell_type": "markdown",
   "id": "af48111a",
   "metadata": {},
   "source": [
    "Slightly altered version to allow for exporting of scalers, encoders, and models."
   ]
  },
  {
   "cell_type": "code",
   "execution_count": 57,
   "id": "2fb0bb2a",
   "metadata": {},
   "outputs": [
    {
     "name": "stdout",
     "output_type": "stream",
     "text": [
      "[[13.]]\n",
      "[[1.]]\n",
      "[[0.]]\n",
      "[[0.]\n",
      " [1.]\n",
      " [1.]\n",
      " ...\n",
      " [0.]\n",
      " [1.]\n",
      " [0.]]\n"
     ]
    }
   ],
   "source": [
    "\n",
    "import pandas as pd\n",
    "import numpy as np\n",
    "from sklearn import preprocessing\n",
    "from sklearn.preprocessing import MinMaxScaler\n",
    "from sklearn.metrics import classification_report\n",
    "\n",
    "df = pd.read_csv('./nyc-flights.csv')\n",
    "df = df.drop(['tailnum','year'], axis=1)\n",
    "arr_delay = [0 if i<=0 else 1 for i in df['arr_delay']]\n",
    "df['arr_delay'] = arr_delay\n",
    "\n",
    "encoder_carrier = preprocessing.OrdinalEncoder()\n",
    "encoder_origin = preprocessing.OrdinalEncoder()\n",
    "encoder_dest = preprocessing.OrdinalEncoder()\n",
    "\n",
    "encoder_carrier = encoder_carrier.fit(df[['carrier']])\n",
    "encoder_origin = encoder_origin.fit(df[['origin']])\n",
    "encoder_dest = encoder_dest.fit(df[['dest']])\n",
    "\n",
    "with open('./encoder_carrier.pkl', 'w+b') as f:\n",
    "    pickle.dump(encoder_carrier, f)\n",
    "    \n",
    "with open('./encoder_origin.pkl', 'w+b') as f:\n",
    "    pickle.dump(encoder_origin, f)\n",
    "    \n",
    "with open('./encoder_dest.pkl', 'w+b') as f:\n",
    "    pickle.dump(encoder_dest, f)\n",
    "\n",
    "df[['carrier']] = encoder_carrier.transform(df[['carrier']])\n",
    "df[['origin']] = encoder_origin.transform(df[['origin']])\n",
    "df[['dest']] = encoder_dest.transform(df[['dest']])\n",
    "\n",
    "print(encoder_carrier.transform([['VX']]))\n",
    "print(encoder_origin.transform([['JFK']]))\n",
    "print(encoder_dest.transform([['ABQ']]))\n",
    "\n",
    "y = df['arr_delay']\n",
    "X = df.drop(['arr_delay'],1)\n",
    "\n",
    "sc_X = MinMaxScaler()\n",
    "sc_X = sc_X.fit(X)\n",
    "X_scaled = sc_X.transform(X)\n",
    "\n",
    "sc_y = MinMaxScaler()\n",
    "sc_y = sc_y.fit(np.asarray(y).reshape(-1, 1))\n",
    "y_scaled_array = sc_y.transform(np.asarray(y).reshape(-1, 1))\n",
    "\n",
    "print(y_scaled_array)"
   ]
  },
  {
   "cell_type": "code",
   "execution_count": 61,
   "id": "7ca3f657-005c-468e-9c82-424a879693fa",
   "metadata": {},
   "outputs": [
    {
     "data": {
      "text/plain": [
       "array([[ 0.00000000e+00,  3.33333333e-02,  8.33680700e-04,\n",
       "         1.89107413e-02,  1.66736140e-03,  8.66666667e-01,\n",
       "         8.09061489e-04,  5.00000000e-01,  0.00000000e+00,\n",
       "        -2.25903614e-02, -1.75905093e-02,  3.75000000e-01,\n",
       "         1.69491525e-01]])"
      ]
     },
     "execution_count": 61,
     "metadata": {},
     "output_type": "execute_result"
    }
   ],
   "source": [
    "d_test = [1,2,3,4,5,13.0,6,1.0,0.0,7,8,9,10]\n",
    "sc_X.transform([d_test])"
   ]
  },
  {
   "cell_type": "code",
   "execution_count": 38,
   "id": "92db04cb",
   "metadata": {},
   "outputs": [
    {
     "name": "stdout",
     "output_type": "stream",
     "text": [
      "[0.27272727 0.23333333 0.43851605 0.01361573 0.55147978 0.73333333\n",
      " 0.18624595 0.         0.47524752 0.44126506 0.43628554 0.41666667\n",
      " 0.89830508]\n"
     ]
    }
   ],
   "source": [
    "from sklearn.model_selection import train_test_split\n",
    "from sklearn.neural_network import MLPClassifier\n",
    "import pickle\n",
    "\n",
    "y_scaled = np.ravel(y_scaled_array)\n",
    "X_train, X_test, y_train, y_test = train_test_split(X_scaled, y_scaled, random_state=1, test_size=0.3)\n",
    "\n",
    "print(X_test[0])\n",
    "\n",
    "clf = MLPClassifier(hidden_layer_sizes=(9,9),activation=\"logistic\",solver='sgd', learning_rate='constant', learning_rate_init=0.3, max_iter=600, random_state=1)\n",
    "clf.fit(X_train, y_train)\n",
    "\n",
    "with open('./model.pkl', 'w+b') as f:\n",
    "    pickle.dump(clf, f)\n",
    "    \n",
    "with open('./scaler.pkl', 'w+b') as f:\n",
    "    pickle.dump(sc_X, f)\n",
    "\n",
    "y_pred = clf.predict(X_test)\n"
   ]
  },
  {
   "cell_type": "code",
   "execution_count": 39,
   "id": "9691b858",
   "metadata": {},
   "outputs": [
    {
     "name": "stdout",
     "output_type": "stream",
     "text": [
      "Accuracy:\n",
      "0.8554118725180735\n",
      "MSE:\n",
      "0.14458812748192648\n"
     ]
    }
   ],
   "source": [
    "\n",
    "from sklearn.metrics import accuracy_score\n",
    "from sklearn.metrics import mean_squared_error\n",
    "\n",
    "print(\"Accuracy:\")\n",
    "print(accuracy_score(y_test, y_pred))\n",
    "print(\"MSE:\")\n",
    "print(mean_squared_error(y_test, y_pred))\n"
   ]
  },
  {
   "cell_type": "code",
   "execution_count": 40,
   "id": "9027563d",
   "metadata": {},
   "outputs": [
    {
     "name": "stdout",
     "output_type": "stream",
     "text": [
      "              precision    recall  f1-score   support\n",
      "\n",
      "         0.0       0.87      0.89      0.88      5807\n",
      "         1.0       0.83      0.81      0.82      4014\n",
      "\n",
      "    accuracy                           0.86      9821\n",
      "   macro avg       0.85      0.85      0.85      9821\n",
      "weighted avg       0.85      0.86      0.85      9821\n",
      "\n"
     ]
    }
   ],
   "source": [
    "\n",
    "from sklearn.metrics import classification_report\n",
    "\n",
    "print(classification_report(y_test, y_pred))\n"
   ]
  }
 ],
 "metadata": {
  "kernelspec": {
   "display_name": "Python 3",
   "language": "python",
   "name": "python3"
  },
  "language_info": {
   "codemirror_mode": {
    "name": "ipython",
    "version": 3
   },
   "file_extension": ".py",
   "mimetype": "text/x-python",
   "name": "python",
   "nbconvert_exporter": "python",
   "pygments_lexer": "ipython3",
   "version": "3.8.8"
  }
 },
 "nbformat": 4,
 "nbformat_minor": 5
}
